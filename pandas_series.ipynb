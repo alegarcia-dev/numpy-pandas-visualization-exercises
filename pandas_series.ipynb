{
 "cells": [
  {
   "cell_type": "code",
   "execution_count": 2,
   "id": "101313be-7386-407d-b2ba-829079a4fc66",
   "metadata": {},
   "outputs": [],
   "source": [
    "import pandas as pd\n",
    "import matplotlib.pyplot as plt"
   ]
  },
  {
   "cell_type": "code",
   "execution_count": 71,
   "id": "701682b7-9a62-4be9-bf52-7ada4f22b01a",
   "metadata": {},
   "outputs": [],
   "source": [
    "%matplotlib inline"
   ]
  },
  {
   "cell_type": "code",
   "execution_count": 3,
   "id": "e0f2cc41-0ec7-47df-8317-48edc04e8e87",
   "metadata": {},
   "outputs": [],
   "source": [
    "fruits = [\"kiwi\", \"mango\", \"strawberry\", \"pineapple\", \"gala apple\", \"honeycrisp apple\", \"tomato\", \"watermelon\", \"honeydew\", \"kiwi\", \"kiwi\", \"kiwi\", \"mango\", \"blueberry\", \"blackberry\", \"gooseberry\", \"papaya\"]\n",
    "fruits = pd.Series(fruits)"
   ]
  },
  {
   "cell_type": "markdown",
   "id": "e63a2ffc-e098-4cc4-827e-91c6e049e32c",
   "metadata": {},
   "source": [
    "# Exercises Part 1\n",
    "\n",
    "### 1\n",
    "Determine the number of elements in fruits."
   ]
  },
  {
   "cell_type": "code",
   "execution_count": 5,
   "id": "a4794e69-a9e8-42a9-833c-5ea5b979250c",
   "metadata": {},
   "outputs": [
    {
     "data": {
      "text/plain": [
       "17"
      ]
     },
     "execution_count": 5,
     "metadata": {},
     "output_type": "execute_result"
    }
   ],
   "source": [
    "fruits.size"
   ]
  },
  {
   "cell_type": "markdown",
   "id": "aea8a483-7f62-43ed-8ad4-b92f41c03cc8",
   "metadata": {},
   "source": [
    "### 2\n",
    "Output only the index from fruits."
   ]
  },
  {
   "cell_type": "code",
   "execution_count": 6,
   "id": "195e83be-9853-4853-9a3f-d7d5ef1f9a3c",
   "metadata": {},
   "outputs": [
    {
     "data": {
      "text/plain": [
       "RangeIndex(start=0, stop=17, step=1)"
      ]
     },
     "execution_count": 6,
     "metadata": {},
     "output_type": "execute_result"
    }
   ],
   "source": [
    "fruits.index"
   ]
  },
  {
   "cell_type": "markdown",
   "id": "d57b3d21-7dcd-4732-8139-4b676935bd94",
   "metadata": {},
   "source": [
    "### 3\n",
    "Output only the values from fruits."
   ]
  },
  {
   "cell_type": "code",
   "execution_count": 7,
   "id": "01e3805d-8fb9-474d-85e3-dc2cd3e6921e",
   "metadata": {},
   "outputs": [
    {
     "data": {
      "text/plain": [
       "array(['kiwi', 'mango', 'strawberry', 'pineapple', 'gala apple',\n",
       "       'honeycrisp apple', 'tomato', 'watermelon', 'honeydew', 'kiwi',\n",
       "       'kiwi', 'kiwi', 'mango', 'blueberry', 'blackberry', 'gooseberry',\n",
       "       'papaya'], dtype=object)"
      ]
     },
     "execution_count": 7,
     "metadata": {},
     "output_type": "execute_result"
    }
   ],
   "source": [
    "fruits.values"
   ]
  },
  {
   "cell_type": "markdown",
   "id": "d64bedc1-f68d-432f-b410-e0fe050127a2",
   "metadata": {},
   "source": [
    "### 4\n",
    "Confirm the data type of the values in fruits."
   ]
  },
  {
   "cell_type": "code",
   "execution_count": 8,
   "id": "ef774392-9467-4aa6-823e-c4e6bf634257",
   "metadata": {},
   "outputs": [
    {
     "data": {
      "text/plain": [
       "dtype('O')"
      ]
     },
     "execution_count": 8,
     "metadata": {},
     "output_type": "execute_result"
    }
   ],
   "source": [
    "fruits.dtype"
   ]
  },
  {
   "cell_type": "markdown",
   "id": "f62256e4-b6cf-4a6b-8ef1-1ffe25e3f558",
   "metadata": {},
   "source": [
    "### 5\n",
    "Output only the first five values from fruits. Output the last three values. Output two random values from fruits."
   ]
  },
  {
   "cell_type": "code",
   "execution_count": 9,
   "id": "e3e2c9e7-cd83-4a65-aee1-2a699eb081b9",
   "metadata": {},
   "outputs": [
    {
     "data": {
      "text/plain": [
       "0          kiwi\n",
       "1         mango\n",
       "2    strawberry\n",
       "3     pineapple\n",
       "4    gala apple\n",
       "dtype: object"
      ]
     },
     "execution_count": 9,
     "metadata": {},
     "output_type": "execute_result"
    }
   ],
   "source": [
    "fruits.head()"
   ]
  },
  {
   "cell_type": "code",
   "execution_count": 10,
   "id": "b380ab46-d214-40ce-973f-28e70b643a8d",
   "metadata": {},
   "outputs": [
    {
     "data": {
      "text/plain": [
       "14    blackberry\n",
       "15    gooseberry\n",
       "16        papaya\n",
       "dtype: object"
      ]
     },
     "execution_count": 10,
     "metadata": {},
     "output_type": "execute_result"
    }
   ],
   "source": [
    "fruits.tail(3)"
   ]
  },
  {
   "cell_type": "code",
   "execution_count": 11,
   "id": "bf80798a-f1cd-4ece-a8e9-61d6350e3723",
   "metadata": {},
   "outputs": [
    {
     "data": {
      "text/plain": [
       "3     pineapple\n",
       "12        mango\n",
       "dtype: object"
      ]
     },
     "execution_count": 11,
     "metadata": {},
     "output_type": "execute_result"
    }
   ],
   "source": [
    "fruits.sample(2)"
   ]
  },
  {
   "cell_type": "markdown",
   "id": "3c38a374-6551-44d7-a457-871f10f6d49f",
   "metadata": {},
   "source": [
    "### 6\n",
    "Run the .describe() on fruits to see what information it returns when called on a Series with string values."
   ]
  },
  {
   "cell_type": "code",
   "execution_count": 12,
   "id": "b743bcc1-873c-482f-8cb1-8d43cd0d3409",
   "metadata": {},
   "outputs": [
    {
     "data": {
      "text/plain": [
       "count       17\n",
       "unique      13\n",
       "top       kiwi\n",
       "freq         4\n",
       "dtype: object"
      ]
     },
     "execution_count": 12,
     "metadata": {},
     "output_type": "execute_result"
    }
   ],
   "source": [
    "fruits.describe()"
   ]
  },
  {
   "cell_type": "markdown",
   "id": "1215efce-9e65-4176-aed5-8bf296bb4e47",
   "metadata": {},
   "source": [
    "### 7\n",
    "Run the code necessary to produce only the unique string values from fruits."
   ]
  },
  {
   "cell_type": "code",
   "execution_count": 13,
   "id": "29435cfe-e504-4edf-b112-ac512f67bede",
   "metadata": {},
   "outputs": [
    {
     "data": {
      "text/plain": [
       "array(['kiwi', 'mango', 'strawberry', 'pineapple', 'gala apple',\n",
       "       'honeycrisp apple', 'tomato', 'watermelon', 'honeydew',\n",
       "       'blueberry', 'blackberry', 'gooseberry', 'papaya'], dtype=object)"
      ]
     },
     "execution_count": 13,
     "metadata": {},
     "output_type": "execute_result"
    }
   ],
   "source": [
    "fruits.unique()"
   ]
  },
  {
   "cell_type": "markdown",
   "id": "ebe4a188-be75-45fc-9fe0-8e95e4f2f609",
   "metadata": {},
   "source": [
    "### 8\n",
    "Determine how many times each unique string value occurs in fruits."
   ]
  },
  {
   "cell_type": "code",
   "execution_count": 14,
   "id": "005bac8b-e24f-49ea-9912-22a0776b6794",
   "metadata": {},
   "outputs": [
    {
     "data": {
      "text/plain": [
       "kiwi                4\n",
       "mango               2\n",
       "strawberry          1\n",
       "pineapple           1\n",
       "gala apple          1\n",
       "honeycrisp apple    1\n",
       "tomato              1\n",
       "watermelon          1\n",
       "honeydew            1\n",
       "blueberry           1\n",
       "blackberry          1\n",
       "gooseberry          1\n",
       "papaya              1\n",
       "dtype: int64"
      ]
     },
     "execution_count": 14,
     "metadata": {},
     "output_type": "execute_result"
    }
   ],
   "source": [
    "fruits.value_counts()"
   ]
  },
  {
   "cell_type": "markdown",
   "id": "3bede209-79d7-4b22-9c86-2e0d357891f2",
   "metadata": {},
   "source": [
    "### 9\n",
    "Determine the string value that occurs most frequently in fruits."
   ]
  },
  {
   "cell_type": "code",
   "execution_count": 20,
   "id": "71f902df-211d-44b9-9746-73ab0cc2e288",
   "metadata": {},
   "outputs": [
    {
     "data": {
      "text/plain": [
       "kiwi    4\n",
       "dtype: int64"
      ]
     },
     "execution_count": 20,
     "metadata": {},
     "output_type": "execute_result"
    }
   ],
   "source": [
    "fruits.value_counts().nlargest(1, keep = 'all')"
   ]
  },
  {
   "cell_type": "markdown",
   "id": "b713c37d-13c8-42bf-854c-e268ff555915",
   "metadata": {},
   "source": [
    "### 10\n",
    "Determine the string value that occurs least frequently in fruits."
   ]
  },
  {
   "cell_type": "code",
   "execution_count": 19,
   "id": "ca96e2a9-5c4c-4145-ae12-128d4084bd0b",
   "metadata": {},
   "outputs": [
    {
     "data": {
      "text/plain": [
       "strawberry          1\n",
       "pineapple           1\n",
       "gala apple          1\n",
       "honeycrisp apple    1\n",
       "tomato              1\n",
       "watermelon          1\n",
       "honeydew            1\n",
       "blueberry           1\n",
       "blackberry          1\n",
       "gooseberry          1\n",
       "papaya              1\n",
       "dtype: int64"
      ]
     },
     "execution_count": 19,
     "metadata": {},
     "output_type": "execute_result"
    }
   ],
   "source": [
    "fruits.value_counts().nsmallest(1, keep = 'all')"
   ]
  },
  {
   "cell_type": "markdown",
   "id": "2e0ff9b8-e71c-4d5a-8aa3-95e868a5fc69",
   "metadata": {},
   "source": [
    "# Exercises Part 2\n",
    "### 1\n",
    "Capitalize all the string values in fruits."
   ]
  },
  {
   "cell_type": "code",
   "execution_count": 22,
   "id": "e9328e4e-c9ad-4eac-80fa-cae97df6977b",
   "metadata": {},
   "outputs": [
    {
     "data": {
      "text/plain": [
       "0                 Kiwi\n",
       "1                Mango\n",
       "2           Strawberry\n",
       "3            Pineapple\n",
       "4           Gala apple\n",
       "5     Honeycrisp apple\n",
       "6               Tomato\n",
       "7           Watermelon\n",
       "8             Honeydew\n",
       "9                 Kiwi\n",
       "10                Kiwi\n",
       "11                Kiwi\n",
       "12               Mango\n",
       "13           Blueberry\n",
       "14          Blackberry\n",
       "15          Gooseberry\n",
       "16              Papaya\n",
       "dtype: object"
      ]
     },
     "execution_count": 22,
     "metadata": {},
     "output_type": "execute_result"
    }
   ],
   "source": [
    "fruits.str.capitalize()"
   ]
  },
  {
   "cell_type": "markdown",
   "id": "4c438d52-02a2-44d2-bd46-a679be3a4c51",
   "metadata": {},
   "source": [
    "### 2\n",
    "Count the letter \"a\" in all the string values (use string vectorization)."
   ]
  },
  {
   "cell_type": "code",
   "execution_count": 23,
   "id": "0067b6b1-4f3f-4249-a882-907130f02965",
   "metadata": {},
   "outputs": [
    {
     "data": {
      "text/plain": [
       "0     0\n",
       "1     1\n",
       "2     1\n",
       "3     1\n",
       "4     3\n",
       "5     1\n",
       "6     1\n",
       "7     1\n",
       "8     0\n",
       "9     0\n",
       "10    0\n",
       "11    0\n",
       "12    1\n",
       "13    0\n",
       "14    1\n",
       "15    0\n",
       "16    3\n",
       "dtype: int64"
      ]
     },
     "execution_count": 23,
     "metadata": {},
     "output_type": "execute_result"
    }
   ],
   "source": [
    "fruits.str.count('a')"
   ]
  },
  {
   "cell_type": "markdown",
   "id": "6e88fd10-adab-42c3-8493-8c287972821c",
   "metadata": {},
   "source": [
    "### 3\n",
    "Output the number of vowels in each and every string value."
   ]
  },
  {
   "cell_type": "code",
   "execution_count": 24,
   "id": "8cb1db70-8fad-42c1-ba6a-f739e79820df",
   "metadata": {},
   "outputs": [
    {
     "data": {
      "text/plain": [
       "0     2\n",
       "1     2\n",
       "2     2\n",
       "3     4\n",
       "4     4\n",
       "5     5\n",
       "6     3\n",
       "7     4\n",
       "8     3\n",
       "9     2\n",
       "10    2\n",
       "11    2\n",
       "12    2\n",
       "13    3\n",
       "14    2\n",
       "15    4\n",
       "16    3\n",
       "dtype: int64"
      ]
     },
     "execution_count": 24,
     "metadata": {},
     "output_type": "execute_result"
    }
   ],
   "source": [
    "vowels = list('aeiou')\n",
    "\n",
    "def count_vowels(word):\n",
    "    return sum(ch in vowels for ch in word)\n",
    "\n",
    "fruits.apply(count_vowels)"
   ]
  },
  {
   "cell_type": "markdown",
   "id": "fddd136f-f4ee-4fc4-a91f-46f4d424ab80",
   "metadata": {},
   "source": [
    "### 4\n",
    "Write the code to get the longest string value from fruits."
   ]
  },
  {
   "cell_type": "code",
   "execution_count": 27,
   "id": "99577a34-b17d-4101-85f7-b2eb3b6058c6",
   "metadata": {},
   "outputs": [
    {
     "data": {
      "text/plain": [
       "5    honeycrisp apple\n",
       "dtype: object"
      ]
     },
     "execution_count": 27,
     "metadata": {},
     "output_type": "execute_result"
    }
   ],
   "source": [
    "string_lengths_of_fruits = fruits.apply(len)\n",
    "longest_string_length = string_lengths_of_fruits.max()\n",
    "fruits[string_lengths_of_fruits == longest_string_length]"
   ]
  },
  {
   "cell_type": "markdown",
   "id": "56193bf6-631c-4fdd-bfac-9e3b571c3ec0",
   "metadata": {},
   "source": [
    "### 5\n",
    "Write the code to get the string values with 5 or more letters in the name."
   ]
  },
  {
   "cell_type": "code",
   "execution_count": 28,
   "id": "c35c3bfb-973f-44ac-b170-fade5d14416b",
   "metadata": {},
   "outputs": [
    {
     "data": {
      "text/plain": [
       "1                mango\n",
       "2           strawberry\n",
       "3            pineapple\n",
       "4           gala apple\n",
       "5     honeycrisp apple\n",
       "6               tomato\n",
       "7           watermelon\n",
       "8             honeydew\n",
       "12               mango\n",
       "13           blueberry\n",
       "14          blackberry\n",
       "15          gooseberry\n",
       "16              papaya\n",
       "dtype: object"
      ]
     },
     "execution_count": 28,
     "metadata": {},
     "output_type": "execute_result"
    }
   ],
   "source": [
    "fruits[string_lengths_of_fruits >= 5]"
   ]
  },
  {
   "cell_type": "markdown",
   "id": "c571c9ce-5dbd-4b3c-902a-313079fcba90",
   "metadata": {},
   "source": [
    "### 6\n",
    "Use the .apply method with a lambda function to find the fruit(s) containing the letter \"o\" two or more times."
   ]
  },
  {
   "cell_type": "code",
   "execution_count": 8,
   "id": "4b831670-4833-4a9a-8f2c-2ad146af6260",
   "metadata": {},
   "outputs": [
    {
     "data": {
      "text/plain": [
       "6         tomato\n",
       "15    gooseberry\n",
       "dtype: object"
      ]
     },
     "execution_count": 8,
     "metadata": {},
     "output_type": "execute_result"
    }
   ],
   "source": [
    "fruits[fruits.apply(lambda word: word.count('o') >= 2)]"
   ]
  },
  {
   "cell_type": "markdown",
   "id": "150c7664-c2d2-4d18-8a89-e98760f2a655",
   "metadata": {},
   "source": [
    "### 7\n",
    "Write the code to get only the string values containing the substring \"berry\"."
   ]
  },
  {
   "cell_type": "code",
   "execution_count": 84,
   "id": "cea454fb-0716-4b9b-9653-7b9eaec49d0c",
   "metadata": {},
   "outputs": [
    {
     "data": {
      "text/plain": [
       "2     strawberry\n",
       "13     blueberry\n",
       "14    blackberry\n",
       "15    gooseberry\n",
       "dtype: object"
      ]
     },
     "execution_count": 84,
     "metadata": {},
     "output_type": "execute_result"
    }
   ],
   "source": [
    "fruits[fruits.str.find('berry') > 0]"
   ]
  },
  {
   "cell_type": "markdown",
   "id": "4eafc7da-d9ac-4630-b1e1-ebb4167fae04",
   "metadata": {},
   "source": [
    "### 8\n",
    "Write the code to get only the string values containing the substring \"apple\"."
   ]
  },
  {
   "cell_type": "code",
   "execution_count": 40,
   "id": "aa9d3e23-0546-4e2c-8c9a-fa6b4450d026",
   "metadata": {},
   "outputs": [
    {
     "data": {
      "text/plain": [
       "3           pineapple\n",
       "4          gala apple\n",
       "5    honeycrisp apple\n",
       "dtype: object"
      ]
     },
     "execution_count": 40,
     "metadata": {},
     "output_type": "execute_result"
    }
   ],
   "source": [
    "fruits[fruits.apply(lambda word: 'apple' in word)]"
   ]
  },
  {
   "cell_type": "markdown",
   "id": "9a46826f-eb92-4d0f-8648-5d2d9cd3b066",
   "metadata": {},
   "source": [
    "### 9\n",
    "Which string value contains the most vowels?"
   ]
  },
  {
   "cell_type": "code",
   "execution_count": 41,
   "id": "1d5c36e5-deb7-40d8-9d5d-53a8227f1f10",
   "metadata": {},
   "outputs": [
    {
     "data": {
      "text/plain": [
       "5    honeycrisp apple\n",
       "dtype: object"
      ]
     },
     "execution_count": 41,
     "metadata": {},
     "output_type": "execute_result"
    }
   ],
   "source": [
    "vowel_count_per_fruit = fruits.apply(count_vowels)\n",
    "most_vowels = vowel_count_per_fruit.max()\n",
    "fruits[vowel_count_per_fruit == most_vowels]"
   ]
  },
  {
   "cell_type": "markdown",
   "id": "81235cbf-c8dc-4a5e-8404-9279d9e0ffbe",
   "metadata": {},
   "source": [
    "# Exercises Part 3"
   ]
  },
  {
   "cell_type": "code",
   "execution_count": 42,
   "id": "6b571980-4493-45b7-8f64-25c3a836baae",
   "metadata": {},
   "outputs": [],
   "source": [
    "letters = pd.Series(list('hnvidduckkqxwymbimkccexbkmqygkxoyndmcxnwqarhyffsjpsrabtjzsypmzadfavyrnndndvswreauxovncxtwzpwejilzjrmmbbgbyxvjtewqthafnbkqplarokkyydtubbmnexoypulzwfhqvckdpqtpoppzqrmcvhhpwgjwupgzhiofohawytlsiyecuproguy'))"
   ]
  },
  {
   "cell_type": "markdown",
   "id": "ed5aecce-4338-4399-b860-f35eba6fe43d",
   "metadata": {},
   "source": [
    "### 1\n",
    "Which letter occurs the most frequently in the letters Series?"
   ]
  },
  {
   "cell_type": "code",
   "execution_count": 54,
   "id": "45c7e0db-311f-4006-894b-f906e65ffad2",
   "metadata": {},
   "outputs": [
    {
     "data": {
      "text/plain": [
       "'y'"
      ]
     },
     "execution_count": 54,
     "metadata": {},
     "output_type": "execute_result"
    }
   ],
   "source": [
    "letter_counts = letters.value_counts()\n",
    "most_frequent = letter_counts.max()\n",
    "letter_counts[letter_counts == most_frequent].index[0]"
   ]
  },
  {
   "cell_type": "markdown",
   "id": "6859331c-fade-434a-916e-216ea9da82a8",
   "metadata": {},
   "source": [
    "### 2\n",
    "Which letter occurs the Least frequently?"
   ]
  },
  {
   "cell_type": "code",
   "execution_count": 63,
   "id": "885a98de-a23f-4daf-912e-e22ff44f5763",
   "metadata": {},
   "outputs": [
    {
     "data": {
      "text/plain": [
       "'l'"
      ]
     },
     "execution_count": 63,
     "metadata": {},
     "output_type": "execute_result"
    }
   ],
   "source": [
    "least_frequent = letter_counts.min()\n",
    "letter_counts[letter_counts == least_frequent].index[0]"
   ]
  },
  {
   "cell_type": "markdown",
   "id": "d11bf76d-2388-422c-a452-1ad0bb018086",
   "metadata": {},
   "source": [
    "### 3\n",
    "How many vowels are in the Series?"
   ]
  },
  {
   "cell_type": "code",
   "execution_count": 67,
   "id": "e8346cde-2569-4d5c-b910-19483789e8cb",
   "metadata": {},
   "outputs": [
    {
     "data": {
      "text/plain": [
       "34"
      ]
     },
     "execution_count": 67,
     "metadata": {},
     "output_type": "execute_result"
    }
   ],
   "source": [
    "letters.isin(vowels).sum()"
   ]
  },
  {
   "cell_type": "markdown",
   "id": "12f8abb2-a958-49f3-ad2d-d38e20145c24",
   "metadata": {},
   "source": [
    "### 4\n",
    "How many consonants are in the Series?"
   ]
  },
  {
   "cell_type": "code",
   "execution_count": 65,
   "id": "7ce64bac-c90e-4102-a265-193cc02f8efc",
   "metadata": {},
   "outputs": [
    {
     "data": {
      "text/plain": [
       "166"
      ]
     },
     "execution_count": 65,
     "metadata": {},
     "output_type": "execute_result"
    }
   ],
   "source": [
    "letters.size - letters.isin(vowels).sum()"
   ]
  },
  {
   "cell_type": "markdown",
   "id": "b8e7e43e-3da0-499c-88b9-e670f218e3a4",
   "metadata": {},
   "source": [
    "### 5\n",
    "Create a Series that has all of the same letters but uppercased."
   ]
  },
  {
   "cell_type": "code",
   "execution_count": 68,
   "id": "3006067b-9843-4dae-9e0e-f94630c667dc",
   "metadata": {},
   "outputs": [
    {
     "data": {
      "text/plain": [
       "0      H\n",
       "1      N\n",
       "2      V\n",
       "3      I\n",
       "4      D\n",
       "      ..\n",
       "195    R\n",
       "196    O\n",
       "197    G\n",
       "198    U\n",
       "199    Y\n",
       "Length: 200, dtype: object"
      ]
     },
     "execution_count": 68,
     "metadata": {},
     "output_type": "execute_result"
    }
   ],
   "source": [
    "letters.str.upper()"
   ]
  },
  {
   "cell_type": "markdown",
   "id": "08540512-bfc3-4f05-bde0-f69f7bd8debb",
   "metadata": {},
   "source": [
    "### 6\n",
    "Create a bar plot of the frequencies of the 6 most commonly occuring letters."
   ]
  },
  {
   "cell_type": "code",
   "execution_count": 74,
   "id": "8eec4d12-aa60-4001-8455-a62187914232",
   "metadata": {},
   "outputs": [
    {
     "data": {
      "image/png": "[encoded data removed]",
      "text/plain": [
       "<Figure size 432x288 with 1 Axes>"
      ]
     },
     "metadata": {
      "needs_background": "light"
     },
     "output_type": "display_data"
    }
   ],
   "source": [
    "letter_counts.head(6).plot.bar(color = 'steelblue', width = 0.5)\n",
    "plt.title('Most Frequent Letters in Letters')\n",
    "plt.xticks(rotation = 0)\n",
    "plt.xlabel('Letters')\n",
    "plt.ylabel('Frequency');"
   ]
  },
  {
   "cell_type": "code",
   "execution_count": null,
   "id": "5a52e5fd-116e-4f1e-8d97-c4940d53e726",
   "metadata": {},
   "outputs": [],
   "source": []
  },
  {
   "cell_type": "code",
   "execution_count": 75,
   "id": "c3377c59-c15b-4d9e-b205-d86acfc38e39",
   "metadata": {},
   "outputs": [],
   "source": [
    "numbers = pd.Series(['$796,459.41', '$278.60', '$482,571.67', '$4,503,915.98', '$2,121,418.3', '$1,260,813.3', '$87,231.01', '$1,509,175.45', '$4,138,548.00', '$2,848,913.80', '$594,715.39', '$4,789,988.17', '$4,513,644.5', '$3,191,059.97', '$1,758,712.24', '$4,338,283.54', '$4,738,303.38', '$2,791,759.67', '$769,681.94', '$452,650.23'])"
   ]
  },
  {
   "cell_type": "markdown",
   "id": "8c76ddf5-8054-4f81-b3be-9d8798023b0f",
   "metadata": {},
   "source": [
    "### 1\n",
    "What is the data type of the numbers Series?"
   ]
  },
  {
   "cell_type": "code",
   "execution_count": 76,
   "id": "fd99f7d9-ae27-451d-aabf-6cebc6af3623",
   "metadata": {},
   "outputs": [
    {
     "data": {
      "text/plain": [
       "dtype('O')"
      ]
     },
     "execution_count": 76,
     "metadata": {},
     "output_type": "execute_result"
    }
   ],
   "source": [
    "numbers.dtype"
   ]
  },
  {
   "cell_type": "markdown",
   "id": "f090c856-f2de-4aec-9f19-a4fc631acebe",
   "metadata": {},
   "source": [
    "### 2\n",
    "How many elements are in the number Series?"
   ]
  },
  {
   "cell_type": "code",
   "execution_count": 77,
   "id": "303823fa-a9c1-4eb3-ae9f-3e4e527f1efe",
   "metadata": {},
   "outputs": [
    {
     "data": {
      "text/plain": [
       "20"
      ]
     },
     "execution_count": 77,
     "metadata": {},
     "output_type": "execute_result"
    }
   ],
   "source": [
    "numbers.size"
   ]
  },
  {
   "cell_type": "markdown",
   "id": "012306bb-6059-492a-b9fa-38ac5d18bd20",
   "metadata": {},
   "source": [
    "### 3\n",
    "Perform the necessary manipulations by accessing Series attributes and methods to convert the numbers Series to a numeric data type."
   ]
  },
  {
   "cell_type": "code",
   "execution_count": 87,
   "id": "2cf1ab53-de74-4a22-8c5b-dc6626129d59",
   "metadata": {},
   "outputs": [],
   "source": [
    "float_numbers = numbers.str.lstrip('$').str.replace(',', '').astype(float)"
   ]
  },
  {
   "cell_type": "markdown",
   "id": "b37298a7-05aa-471b-8926-4201f7f2b911",
   "metadata": {},
   "source": [
    "### 4\n",
    "Run the code to discover the maximum value from the Series."
   ]
  },
  {
   "cell_type": "code",
   "execution_count": 88,
   "id": "b370899c-3260-4efb-ba81-fa97449a86b5",
   "metadata": {},
   "outputs": [
    {
     "data": {
      "text/plain": [
       "4789988.17"
      ]
     },
     "execution_count": 88,
     "metadata": {},
     "output_type": "execute_result"
    }
   ],
   "source": [
    "float_numbers.max()"
   ]
  },
  {
   "cell_type": "markdown",
   "id": "a6384fc9-1be4-4691-9f46-f3636addf7ba",
   "metadata": {},
   "source": [
    "### 5\n",
    "Run the code to discover the minimum value from the Series."
   ]
  },
  {
   "cell_type": "code",
   "execution_count": 92,
   "id": "244604a5-e287-4c39-9fe6-4bd9d2b5cc41",
   "metadata": {},
   "outputs": [
    {
     "data": {
      "text/plain": [
       "278.6"
      ]
     },
     "execution_count": 92,
     "metadata": {},
     "output_type": "execute_result"
    }
   ],
   "source": [
    "float_numbers.min()"
   ]
  },
  {
   "cell_type": "markdown",
   "id": "3ed3818f-5ac4-4ca0-89a5-61b9eb6598ff",
   "metadata": {},
   "source": [
    "### 6\n",
    "What is the range of the values in the Series?"
   ]
  },
  {
   "cell_type": "code",
   "execution_count": 95,
   "id": "c70d9ab6-e6b7-493f-95b9-9423091f3e79",
   "metadata": {},
   "outputs": [
    {
     "data": {
      "text/plain": [
       "4789709.57"
      ]
     },
     "execution_count": 95,
     "metadata": {},
     "output_type": "execute_result"
    }
   ],
   "source": [
    "float_numbers.max() - float_numbers.min()"
   ]
  },
  {
   "cell_type": "markdown",
   "id": "ffcf82db-d2b1-48e5-8034-b0cc9a4a092d",
   "metadata": {},
   "source": [
    "### 7\n",
    "Bin the data into 4 equally sized intervals or bins and output how many values fall into each bin."
   ]
  },
  {
   "cell_type": "code",
   "execution_count": 110,
   "id": "021d7d1d-38b5-45fc-a5b5-5ed689ea384f",
   "metadata": {},
   "outputs": [
    {
     "data": {
      "text/plain": [
       "(-4511.111, 1197705.993]      7\n",
       "(3592560.778, 4789988.17]     6\n",
       "(1197705.993, 2395133.385]    4\n",
       "(2395133.385, 3592560.778]    3\n",
       "dtype: int64"
      ]
     },
     "execution_count": 110,
     "metadata": {},
     "output_type": "execute_result"
    }
   ],
   "source": [
    "float_numbers.value_counts(bins = 4)"
   ]
  },
  {
   "cell_type": "markdown",
   "id": "ecb04da2-1614-411f-903e-d08d9daa5784",
   "metadata": {},
   "source": [
    "### 8\n",
    "Plot the binned data in a meaningful way. Be sure to include a title and axis labels."
   ]
  },
  {
   "cell_type": "code",
   "execution_count": 147,
   "id": "e5bd56d2-5b9b-46d8-af3d-3dba6d737186",
   "metadata": {},
   "outputs": [
    {
     "data": {
      "image/png": "[encoded data removed]",
      "text/plain": [
       "<Figure size 432x288 with 1 Axes>"
      ]
     },
     "metadata": {
      "needs_background": "light"
     },
     "output_type": "display_data"
    }
   ],
   "source": [
    "bins = pd.cut(float_numbers, [0, 1_200_000, 2_400_000, 3_600_000, 4_800_000]).value_counts().sort_index()\n",
    "bins.plot.bar(color = 'steelblue', width = 0.5)\n",
    "plt.title('Numbers in Bins')\n",
    "plt.xticks(\n",
    "    [0, 1, 2, 3],\n",
    "    ['0 - 1,200,000', '1,200,000 - 2,400,000', '2,400,000 - 3,600,000', '3,600,000 - 4,800,000'],\n",
    "    rotation = 20\n",
    ")\n",
    "plt.xlabel('Numbers')\n",
    "plt.ylabel('Frequency', rotation = 20, loc = 'top');"
   ]
  },
  {
   "cell_type": "code",
   "execution_count": null,
   "id": "cf3f970d-7821-4631-9162-be9648e068a4",
   "metadata": {},
   "outputs": [],
   "source": []
  },
  {
   "cell_type": "code",
   "execution_count": 125,
   "id": "f9f0ff7c-856a-4559-9116-28d5c1813108",
   "metadata": {},
   "outputs": [],
   "source": [
    "exam_scores = pd.Series([60, 86, 75, 62, 93, 71, 60, 83, 95, 78, 65, 72, 69, 81, 96, 80, 85, 92, 82, 78])"
   ]
  },
  {
   "cell_type": "markdown",
   "id": "83ff7fc3-5d0f-45ed-96c7-76f2fd9b3b66",
   "metadata": {},
   "source": [
    "### 1\n",
    "How many elements are in the exam_scores Series?"
   ]
  },
  {
   "cell_type": "code",
   "execution_count": 126,
   "id": "464e3d3c-09e4-4653-9fcf-3c2fa17b9228",
   "metadata": {},
   "outputs": [
    {
     "data": {
      "text/plain": [
       "20"
      ]
     },
     "execution_count": 126,
     "metadata": {},
     "output_type": "execute_result"
    }
   ],
   "source": [
    "exam_scores.size"
   ]
  },
  {
   "cell_type": "markdown",
   "id": "2af261c7-520b-4059-9013-9f330f366e0a",
   "metadata": {},
   "source": [
    "### 2\n",
    "Run the code to discover the minimum, the maximum, the mean, and the median scores for the exam_scores Series."
   ]
  },
  {
   "cell_type": "code",
   "execution_count": 129,
   "id": "4ef99d96-db74-467b-96c2-366161130bc2",
   "metadata": {},
   "outputs": [
    {
     "data": {
      "text/plain": [
       "{'min': 60, 'max': 96, 'mean': 78.15, 'median': 79.0}"
      ]
     },
     "execution_count": 129,
     "metadata": {},
     "output_type": "execute_result"
    }
   ],
   "source": [
    "{'min' : exam_scores.min(), 'max' : exam_scores.max(), 'mean' : exam_scores.mean(), 'median' : exam_scores.median()}"
   ]
  },
  {
   "cell_type": "markdown",
   "id": "cfb8e5b6-bafe-4ac3-b5b8-a68e249d09cd",
   "metadata": {},
   "source": [
    "### 3\n",
    "Plot the Series in a meaningful way and make sure your chart has a title and axis labels."
   ]
  },
  {
   "cell_type": "code",
   "execution_count": 153,
   "id": "33e114ec-6aae-4431-a9ad-45dcdead8f6e",
   "metadata": {},
   "outputs": [
    {
     "data": {
      "image/png": "[encoded data removed]",
      "text/plain": [
       "<Figure size 432x288 with 1 Axes>"
      ]
     },
     "metadata": {
      "needs_background": "light"
     },
     "output_type": "display_data"
    }
   ],
   "source": [
    "# pd.cut(exam_scores, [50, 65, 70, 75, 80, 85, 90, 95, 100]).value_counts().sort_index().plot.bar()\n",
    "exam_scores.plot.hist(bins = 7, color = 'firebrick')\n",
    "plt.title('Exam Scores')\n",
    "plt.xlabel('Scores')\n",
    "plt.ylabel('Frequency')\n",
    "plt.yticks([0, 1, 2, 3, 4], ['0', '1', '2', '3', '4']);"
   ]
  },
  {
   "cell_type": "markdown",
   "id": "a40b5a33-44e1-49b4-938b-acf1037155ec",
   "metadata": {},
   "source": [
    "### 4\n",
    "Write the code necessary to implement a curve for your exam_grades Series and save this as curved_grades. Add the necessary points to the highest grade to make it 100, and add the same number of points to every other score in the Series as well."
   ]
  },
  {
   "cell_type": "code",
   "execution_count": 157,
   "id": "3dc11482-b776-4b54-bcfd-9874b2263adc",
   "metadata": {},
   "outputs": [
    {
     "data": {
      "text/plain": [
       "0      64\n",
       "1      90\n",
       "2      79\n",
       "3      66\n",
       "4      97\n",
       "5      75\n",
       "6      64\n",
       "7      87\n",
       "8      99\n",
       "9      82\n",
       "10     69\n",
       "11     76\n",
       "12     73\n",
       "13     85\n",
       "14    100\n",
       "15     84\n",
       "16     89\n",
       "17     96\n",
       "18     86\n",
       "19     82\n",
       "dtype: int64"
      ]
     },
     "execution_count": 157,
     "metadata": {},
     "output_type": "execute_result"
    }
   ],
   "source": [
    "curve = 100 - exam_scores.max()\n",
    "curved_grades = exam_scores + curve\n",
    "curved_grades"
   ]
  },
  {
   "cell_type": "markdown",
   "id": "bb19482f-56ff-48cf-8f17-c406a32eea1c",
   "metadata": {},
   "source": [
    "### 5\n",
    "Use a method to convert each of the numeric values in the curved_grades Series into a categorical value of letter grades. For example, 86 should be a 'B' and 95 should be an 'A'. Save this as a Series named letter_grades."
   ]
  },
  {
   "cell_type": "code",
   "execution_count": 164,
   "id": "14e303f3-385f-4c33-ace7-fb85001046d1",
   "metadata": {},
   "outputs": [
    {
     "data": {
      "text/plain": [
       "F    0\n",
       "D    4\n",
       "C    4\n",
       "B    7\n",
       "A    5\n",
       "dtype: int64"
      ]
     },
     "execution_count": 164,
     "metadata": {},
     "output_type": "execute_result"
    }
   ],
   "source": [
    "letter_grades = pd.cut(curved_grades, [0, 59, 69, 79, 89, 100], labels = ['F', 'D', 'C', 'B', 'A']).value_counts().sort_index()\n",
    "letter_grades"
   ]
  },
  {
   "cell_type": "markdown",
   "id": "ccc4feba-1b26-465c-b551-ab594bb2d0af",
   "metadata": {},
   "source": [
    "### 6\n",
    "Plot your new categorical letter_grades Series in a meaninful way and include a title and axis labels."
   ]
  },
  {
   "cell_type": "code",
   "execution_count": 172,
   "id": "6c05e9d2-6f0f-450a-ae86-d48915b2efea",
   "metadata": {},
   "outputs": [
    {
     "data": {
      "image/png": "[encoded data removed]",
      "text/plain": [
       "<Figure size 432x288 with 1 Axes>"
      ]
     },
     "metadata": {
      "needs_background": "light"
     },
     "output_type": "display_data"
    }
   ],
   "source": [
    "letter_grades.plot.bar(color = 'firebrick')\n",
    "plt.title('Letter Grades')\n",
    "plt.xticks(rotation = 0)\n",
    "plt.xlabel('Grades')\n",
    "plt.ylabel('Frequency');"
   ]
  }
 ],
 "metadata": {
  "kernelspec": {
   "display_name": "Python 3 (ipykernel)",
   "language": "python",
   "name": "python3"
  },
  "language_info": {
   "codemirror_mode": {
    "name": "ipython",
    "version": 3
   },
   "file_extension": ".py",
   "mimetype": "text/x-python",
   "name": "python",
   "nbconvert_exporter": "python",
   "pygments_lexer": "ipython3",
   "version": "3.9.7"
  }
 },
 "nbformat": 4,
 "nbformat_minor": 5
}
